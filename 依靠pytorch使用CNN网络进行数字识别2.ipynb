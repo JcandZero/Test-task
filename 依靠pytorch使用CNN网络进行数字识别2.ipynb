{
  "nbformat": 4,
  "nbformat_minor": 0,
  "metadata": {
    "colab": {
      "provenance": [],
      "authorship_tag": "ABX9TyPCaDf1UQXUPsRjsOGjG61r",
      "include_colab_link": true
    },
    "kernelspec": {
      "name": "python3",
      "display_name": "Python 3"
    },
    "language_info": {
      "name": "python"
    }
  },
  "cells": [
    {
      "cell_type": "markdown",
      "metadata": {
        "id": "view-in-github",
        "colab_type": "text"
      },
      "source": [
        "<a href=\"https://colab.research.google.com/github/JcandZero/Test-task/blob/main/%E4%BE%9D%E9%9D%A0pytorch%E4%BD%BF%E7%94%A8CNN%E7%BD%91%E7%BB%9C%E8%BF%9B%E8%A1%8C%E6%95%B0%E5%AD%97%E8%AF%86%E5%88%AB2.ipynb\" target=\"_parent\"><img src=\"https://colab.research.google.com/assets/colab-badge.svg\" alt=\"Open In Colab\"/></a>"
      ]
    },
    {
      "cell_type": "markdown",
      "source": [
        "#使用了基于Google colab中的谷歌计算资源，来对Mnist进行手写数字识别（使用CNN网络）"
      ],
      "metadata": {
        "id": "IUzrh5t6lGtu"
      }
    },
    {
      "cell_type": "markdown",
      "source": [
        "使用了Pytorch架构进行mnist手写数字识别"
      ],
      "metadata": {
        "id": "W71RzLJumC78"
      }
    },
    {
      "cell_type": "code",
      "source": [
        "#导入pytorch框架，导入其他包"
      ],
      "metadata": {
        "id": "XVKPvIFWmXG1"
      },
      "execution_count": null,
      "outputs": []
    },
    {
      "cell_type": "code",
      "execution_count": null,
      "metadata": {
        "id": "WqIBRAr7k5-d"
      },
      "outputs": [],
      "source": [
        "import torch\n",
        "import torchvision\n",
        "from torch.utils.data import DataLoader"
      ]
    },
    {
      "cell_type": "markdown",
      "source": [
        "定义超参数（paremeter）"
      ],
      "metadata": {
        "id": "ta5GUBlnmtfe"
      }
    },
    {
      "cell_type": "code",
      "source": [
        "n_epochs = 4#设置不同的epoch以测试\n",
        "batch_size_train = 64\n",
        "batch_size_test = 1000\n",
        "learning_rate = 0.01\n",
        "momentum = 0.5\n",
        "log_interval = 10\n",
        "random_seed = 1\n",
        "torch.manual_seed(random_seed) #为了再现结果，设置random_seed"
      ],
      "metadata": {
        "colab": {
          "base_uri": "https://localhost:8080/"
        },
        "id": "EZEdTGtcm27l",
        "outputId": "6a07852a-aea5-4ac5-cc73-07fdf25f3189"
      },
      "execution_count": null,
      "outputs": [
        {
          "output_type": "execute_result",
          "data": {
            "text/plain": [
              "<torch._C.Generator at 0x7f714efe4c70>"
            ]
          },
          "metadata": {},
          "execution_count": 37
        }
      ]
    },
    {
      "cell_type": "markdown",
      "source": [
        "1.设置dataloader，包括train和test的data\n",
        "\n",
        "2.进行了特征预处理，Normalize，将数据集的全局平均值设置0.1307，标准偏差为0.3081\n"
      ],
      "metadata": {
        "id": "A_aSFMlbn5GD"
      }
    },
    {
      "cell_type": "code",
      "source": [
        "train_loader = torch.utils.data.DataLoader(\n",
        "    torchvision.datasets.MNIST('./data/', train=True, download=True,\n",
        "                               transform=torchvision.transforms.Compose([\n",
        "                                   torchvision.transforms.ToTensor(),\n",
        "                                   torchvision.transforms.Normalize(\n",
        "                                       (0.1307,), (0.3081,))\n",
        "                               ])),\n",
        "    batch_size=batch_size_train, shuffle=True)\n",
        "test_loader = torch.utils.data.DataLoader(\n",
        "    torchvision.datasets.MNIST('./data/', train=False, download=True,\n",
        "                               transform=torchvision.transforms.Compose([\n",
        "                                   torchvision.transforms.ToTensor(),\n",
        "                                   torchvision.transforms.Normalize(\n",
        "                                       (0.1307,), (0.3081,))\n",
        "                               ])),\n",
        "    batch_size=batch_size_test, shuffle=True)"
      ],
      "metadata": {
        "id": "aGTqGmkrnzL0"
      },
      "execution_count": null,
      "outputs": []
    },
    {
      "cell_type": "markdown",
      "source": [
        "查看数据"
      ],
      "metadata": {
        "id": "12SQevecp6bo"
      }
    },
    {
      "cell_type": "code",
      "source": [
        "examples = enumerate(test_loader)\n",
        "batch_idx, (example_data, example_targets) = next(examples)\n",
        "print(example_targets)\n",
        "print(example_data.shape)"
      ],
      "metadata": {
        "colab": {
          "base_uri": "https://localhost:8080/"
        },
        "id": "pFQtau9ip58F",
        "outputId": "f655c625-3711-4e9e-ab53-6c67e8767530"
      },
      "execution_count": null,
      "outputs": [
        {
          "output_type": "stream",
          "name": "stdout",
          "text": [
            "tensor([3, 9, 4, 9, 9, 0, 8, 3, 1, 2, 3, 9, 1, 3, 6, 6, 4, 4, 9, 7, 3, 7, 6, 3,\n",
            "        4, 8, 4, 6, 8, 6, 1, 1, 1, 1, 0, 0, 1, 8, 4, 0, 1, 2, 7, 9, 3, 2, 3, 8,\n",
            "        3, 2, 0, 4, 6, 6, 5, 5, 3, 0, 3, 7, 2, 4, 1, 6, 7, 5, 4, 1, 0, 8, 5, 9,\n",
            "        0, 9, 6, 1, 8, 0, 9, 3, 5, 7, 8, 5, 6, 4, 2, 2, 2, 1, 8, 4, 4, 2, 1, 5,\n",
            "        9, 3, 7, 0, 4, 1, 7, 2, 2, 6, 5, 1, 2, 6, 1, 3, 1, 2, 7, 4, 1, 3, 2, 9,\n",
            "        3, 7, 2, 7, 4, 7, 0, 0, 9, 0, 9, 5, 1, 6, 9, 8, 1, 4, 6, 7, 5, 5, 6, 4,\n",
            "        5, 4, 0, 7, 4, 1, 3, 8, 2, 6, 2, 2, 8, 4, 1, 9, 6, 7, 5, 0, 7, 4, 6, 2,\n",
            "        6, 8, 7, 9, 8, 0, 7, 4, 2, 4, 9, 0, 4, 6, 5, 6, 6, 4, 4, 8, 3, 8, 0, 9,\n",
            "        5, 6, 3, 3, 8, 4, 4, 6, 7, 8, 5, 3, 4, 3, 3, 3, 3, 1, 8, 8, 9, 1, 0, 1,\n",
            "        4, 1, 0, 2, 0, 6, 5, 1, 5, 8, 8, 1, 3, 9, 4, 5, 9, 2, 5, 6, 5, 8, 2, 7,\n",
            "        4, 1, 6, 8, 7, 9, 3, 3, 4, 4, 5, 4, 9, 8, 2, 9, 1, 6, 7, 1, 0, 5, 1, 9,\n",
            "        2, 1, 5, 2, 7, 9, 0, 0, 6, 0, 8, 7, 2, 6, 1, 7, 6, 1, 2, 1, 6, 3, 1, 4,\n",
            "        1, 7, 5, 9, 3, 8, 6, 3, 8, 7, 4, 2, 3, 2, 4, 3, 5, 1, 2, 4, 0, 9, 4, 0,\n",
            "        5, 0, 7, 3, 3, 1, 8, 4, 1, 2, 2, 6, 0, 2, 1, 6, 3, 6, 2, 1, 7, 3, 9, 9,\n",
            "        0, 7, 6, 6, 8, 0, 1, 1, 9, 9, 6, 9, 4, 7, 8, 7, 8, 5, 3, 2, 4, 4, 3, 3,\n",
            "        1, 9, 5, 3, 1, 8, 4, 7, 6, 0, 5, 9, 7, 5, 4, 0, 3, 6, 0, 0, 5, 9, 7, 4,\n",
            "        7, 7, 3, 3, 8, 0, 5, 8, 6, 3, 4, 9, 6, 2, 2, 9, 3, 9, 4, 3, 7, 8, 0, 3,\n",
            "        7, 5, 1, 7, 0, 1, 7, 1, 6, 8, 9, 0, 2, 0, 0, 2, 8, 5, 6, 2, 1, 6, 4, 2,\n",
            "        1, 0, 7, 8, 7, 9, 8, 3, 1, 5, 2, 5, 0, 3, 8, 4, 1, 8, 0, 2, 4, 4, 0, 0,\n",
            "        4, 2, 8, 7, 5, 8, 5, 3, 7, 3, 3, 3, 1, 2, 4, 5, 9, 8, 2, 7, 6, 8, 6, 1,\n",
            "        3, 4, 0, 3, 7, 0, 3, 2, 9, 6, 2, 1, 7, 8, 1, 6, 9, 8, 6, 8, 7, 0, 5, 2,\n",
            "        5, 4, 4, 8, 6, 6, 8, 6, 7, 0, 9, 4, 4, 9, 7, 5, 7, 5, 9, 0, 8, 3, 9, 8,\n",
            "        1, 3, 3, 1, 0, 0, 1, 2, 1, 7, 0, 7, 0, 9, 8, 3, 2, 2, 0, 3, 0, 3, 0, 3,\n",
            "        6, 1, 5, 8, 8, 7, 4, 5, 2, 6, 7, 8, 4, 8, 3, 9, 2, 6, 8, 7, 2, 3, 0, 4,\n",
            "        9, 7, 7, 5, 0, 3, 6, 2, 9, 5, 9, 3, 7, 3, 6, 0, 9, 6, 5, 1, 6, 3, 9, 0,\n",
            "        9, 8, 4, 1, 6, 4, 1, 9, 1, 4, 6, 9, 4, 4, 7, 2, 3, 5, 9, 9, 2, 3, 0, 9,\n",
            "        9, 0, 0, 2, 4, 5, 6, 4, 7, 9, 0, 9, 0, 8, 3, 3, 1, 6, 0, 8, 3, 9, 8, 0,\n",
            "        3, 9, 7, 4, 8, 0, 9, 9, 7, 4, 9, 0, 1, 9, 0, 3, 3, 6, 8, 2, 6, 0, 0, 8,\n",
            "        8, 7, 9, 7, 7, 6, 1, 6, 0, 1, 9, 9, 5, 6, 9, 6, 2, 2, 1, 1, 6, 0, 7, 8,\n",
            "        4, 2, 4, 7, 0, 8, 9, 5, 9, 6, 9, 1, 2, 2, 8, 1, 3, 6, 2, 0, 5, 1, 1, 6,\n",
            "        8, 7, 0, 6, 2, 5, 6, 1, 9, 8, 6, 8, 5, 1, 7, 3, 2, 0, 9, 2, 2, 5, 5, 3,\n",
            "        8, 1, 4, 9, 7, 7, 1, 8, 2, 8, 1, 1, 7, 4, 1, 6, 9, 2, 0, 3, 4, 2, 0, 5,\n",
            "        7, 5, 7, 2, 5, 6, 8, 2, 6, 7, 3, 1, 6, 2, 4, 2, 0, 2, 5, 4, 1, 1, 5, 7,\n",
            "        4, 5, 2, 0, 8, 0, 4, 7, 3, 8, 8, 2, 3, 2, 6, 5, 1, 0, 4, 1, 3, 9, 0, 2,\n",
            "        8, 9, 1, 2, 0, 8, 7, 4, 4, 0, 7, 1, 0, 8, 5, 3, 3, 3, 4, 0, 7, 4, 4, 5,\n",
            "        0, 2, 2, 7, 8, 1, 2, 8, 0, 3, 5, 4, 6, 7, 9, 0, 0, 7, 3, 9, 4, 9, 5, 1,\n",
            "        4, 4, 9, 8, 7, 3, 9, 0, 8, 7, 0, 8, 4, 5, 8, 1, 7, 4, 2, 1, 1, 5, 1, 1,\n",
            "        5, 5, 6, 4, 3, 7, 3, 3, 3, 0, 4, 7, 9, 0, 3, 9, 8, 0, 7, 8, 7, 0, 0, 3,\n",
            "        7, 7, 6, 8, 8, 9, 8, 0, 9, 4, 9, 3, 8, 6, 8, 2, 0, 4, 8, 4, 4, 4, 6, 8,\n",
            "        3, 6, 3, 5, 1, 9, 5, 4, 3, 8, 3, 1, 2, 3, 1, 1, 9, 9, 5, 5, 0, 4, 1, 6,\n",
            "        9, 4, 8, 6, 8, 1, 7, 2, 6, 9, 8, 2, 7, 2, 2, 4, 8, 9, 3, 6, 2, 2, 7, 8,\n",
            "        5, 7, 2, 0, 0, 2, 3, 1, 1, 5, 8, 5, 3, 9, 7, 6])\n",
            "torch.Size([1000, 1, 28, 28])\n"
          ]
        }
      ]
    },
    {
      "cell_type": "markdown",
      "source": [
        "利用matplotlib来绘制一些字符"
      ],
      "metadata": {
        "id": "z0eV2NaTqGdo"
      }
    },
    {
      "cell_type": "code",
      "source": [
        "import matplotlib.pyplot as plt\n",
        "fig = plt.figure()\n",
        "for i in range(6):\n",
        "  plt.subplot(2,3,i+1)\n",
        "  plt.tight_layout()\n",
        "  plt.imshow(example_data[i][0], cmap='gray', interpolation='none')\n",
        "  plt.title(\"Ground Truth: {}\".format(example_targets[i]))\n",
        "  plt.xticks([])\n",
        "  plt.yticks([])\n",
        "plt.show()"
      ],
      "metadata": {
        "colab": {
          "base_uri": "https://localhost:8080/",
          "height": 284
        },
        "id": "Y_aDObBWrP1w",
        "outputId": "ece9df03-27d9-48ee-ab16-33647c23deff"
      },
      "execution_count": null,
      "outputs": [
        {
          "output_type": "display_data",
          "data": {
            "text/plain": [
              "<Figure size 432x288 with 6 Axes>"
            ],
            "image/png": "[encoded data removed]"
          },
          "metadata": {}
        }
      ]
    },
    {
      "cell_type": "markdown",
      "source": [
        "#神经网络布置-使用CNN网络（提供两种sequential函数的方法）\n",
        "\n",
        "其中神经元的单元选用Conv2d的2d卷积层，和两个线性函数"
      ],
      "metadata": {
        "id": "fTh_wO_JrWGM"
      }
    },
    {
      "cell_type": "code",
      "source": [
        "import torch.nn as nn\n",
        "import torch.nn.functional as F\n",
        "import torch.optim as optim\n",
        "\n",
        "class Net(nn.Module):\n",
        "    def __init__(self):\n",
        "        super(Net, self).__init__()\n",
        "        self.conv1 = nn.Conv2d(1, 10, kernel_size=5)\n",
        "        self.conv2 = nn.Conv2d(10, 20, kernel_size=5)\n",
        "        self.conv2_drop = nn.Dropout2d()\n",
        "        self.fc1 = nn.Linear(320, 50)\n",
        "        self.fc2 = nn.Linear(50, 10)\n",
        "    def forward(self, x):\n",
        "        x = F.relu(F.max_pool2d(self.conv1(x), 2))\n",
        "        x = F.relu(F.max_pool2d(self.conv2_drop(self.conv2(x)), 2))\n",
        "        x = x.view(-1, 320)\n",
        "        x = F.relu(self.fc1(x))\n",
        "        x = F.dropout(x, training=self.training)\n",
        "        x = self.fc2(x)\n",
        "        return F.log_softmax(x)"
      ],
      "metadata": {
        "id": "SWNCPZoNrjWp"
      },
      "execution_count": null,
      "outputs": []
    },
    {
      "cell_type": "markdown",
      "source": [
        "**更换神经网络层内部函数**（此层代码与上面的代码选择使用）"
      ],
      "metadata": {
        "id": "LkFPlLsFVI_R"
      }
    },
    {
      "cell_type": "markdown",
      "source": [
        "此层函数使用的较为复杂，混合使用Conv2d、BatchNorm2d、Relu等函数,已全部注释化,可以选用"
      ],
      "metadata": {
        "id": "MfZh-QxiWY89"
      }
    },
    {
      "cell_type": "code",
      "source": [
        "# import torch\n",
        "# import torch.nn as nn\n",
        "# import torch.nn.functional as F\n",
        "# import torch.optim as optim\n",
        "# from torch.optim import lr_scheduler\n",
        "# from torch.autograd import Variable\n",
        "# from torch.utils.data import DataLoader, Dataset\n",
        "# from torchvision import transforms\n",
        "# from torchvision.utils import make_grid\n",
        "\n",
        "# import math\n",
        "# import random\n",
        "\n",
        "# from PIL import Image, ImageOps, ImageEnhance\n",
        "# import numbers\n",
        "\n",
        "# import matplotlib.pyplot as plt\n",
        "\n",
        "# class Net(nn.Module): \n",
        "#     def __init__(self):\n",
        "#         super(Net, self).__init__()\n",
        "          \n",
        "#         self.features = nn.Sequential(\n",
        "#             nn.Conv2d(1, 32, kernel_size=3, stride=1, padding=1),\n",
        "#             nn.BatchNorm2d(32),\n",
        "#             nn.ReLU(inplace=True),\n",
        "#             nn.Conv2d(32, 32, kernel_size=3, stride=1, padding=1),\n",
        "#             nn.BatchNorm2d(32),\n",
        "#             nn.ReLU(inplace=True),\n",
        "#             nn.MaxPool2d(kernel_size=2, stride=2),\n",
        "#             nn.Conv2d(32, 64, kernel_size=3, padding=1),\n",
        "#             nn.BatchNorm2d(64),\n",
        "#             nn.ReLU(inplace=True),\n",
        "#             nn.Conv2d(64, 64, kernel_size=3, padding=1),\n",
        "#             nn.BatchNorm2d(64),\n",
        "#             nn.ReLU(inplace=True),\n",
        "#             nn.MaxPool2d(kernel_size=2, stride=2)\n",
        "#         )\n",
        "          \n",
        "#         self.classifier = nn.Sequential(\n",
        "#             nn.Dropout(p = 0.5),\n",
        "#             nn.Linear(64 * 7 * 7, 512),\n",
        "#             nn.BatchNorm1d(512),\n",
        "#             nn.ReLU(inplace=True),\n",
        "#             nn.Dropout(p = 0.5),\n",
        "#             nn.Linear(512, 512),\n",
        "#             nn.BatchNorm1d(512),\n",
        "#             nn.ReLU(inplace=True),\n",
        "#             nn.Dropout(p = 0.5),\n",
        "#             nn.Linear(512, 10),\n",
        "#         )\n",
        "          \n",
        "#         for m in self.features.children():\n",
        "#             if isinstance(m, nn.Conv2d):\n",
        "#                 n = m.kernel_size[0] * m.kernel_size[1] * m.out_channels\n",
        "#                 m.weight.data.normal_(0, math.sqrt(2. / n))\n",
        "#             elif isinstance(m, nn.BatchNorm2d):\n",
        "#                 m.weight.data.fill_(1)\n",
        "#                 m.bias.data.zero_()\n",
        "        \n",
        "#         for m in self.classifier.children():\n",
        "#             if isinstance(m, nn.Linear):\n",
        "#                 nn.init.xavier_uniform(m.weight)\n",
        "#             elif isinstance(m, nn.BatchNorm1d):\n",
        "#                 m.weight.data.fill_(1)\n",
        "#                 m.bias.data.zero_()\n",
        "                \n",
        "\n",
        "#     def forward(self, x):\n",
        "#         x = self.features(x)\n",
        "#         x = x.view(x.size(0), -1)\n",
        "#         x = self.classifier(x)\n",
        "        \n",
        "#         return x  "
      ],
      "metadata": {
        "id": "HvDsTxsAUuzc"
      },
      "execution_count": null,
      "outputs": []
    },
    {
      "cell_type": "markdown",
      "source": [
        "初始化网络和优化器。\n"
      ],
      "metadata": {
        "id": "LMk6fP8-sCN-"
      }
    },
    {
      "cell_type": "code",
      "source": [
        "network = Net()\n",
        "optimizer = optim.SGD(network.parameters(), lr=learning_rate,\n",
        "                      momentum=momentum)"
      ],
      "metadata": {
        "id": "x8Oj1LmXsAn2"
      },
      "execution_count": null,
      "outputs": []
    },
    {
      "cell_type": "markdown",
      "source": [
        "#模型训练"
      ],
      "metadata": {
        "id": "prQ6dNxPsIzj"
      }
    },
    {
      "cell_type": "markdown",
      "source": [
        "设置losses和counter"
      ],
      "metadata": {
        "id": "CEAzgxxgsO28"
      }
    },
    {
      "cell_type": "code",
      "source": [
        "train_losses = []\n",
        "train_counter = []\n",
        "test_losses = []\n",
        "test_counter = [i*len(train_loader.dataset) for i in range(n_epochs + 1)]"
      ],
      "metadata": {
        "id": "g0kzAk7csH_m"
      },
      "execution_count": null,
      "outputs": []
    },
    {
      "cell_type": "markdown",
      "source": [
        "先使用随机初始化的网络参数来计算损失，看看准确度"
      ],
      "metadata": {
        "id": "x6F7o7MEs2Qy"
      }
    },
    {
      "cell_type": "code",
      "source": [
        "def train(epoch):\n",
        "  network.train()\n",
        "  for batch_idx, (data, target) in enumerate(train_loader):\n",
        "    optimizer.zero_grad()\n",
        "    output = network(data)\n",
        "    loss = F.nll_loss(output, target)\n",
        "    loss.backward()\n",
        "    optimizer.step()\n",
        "    if batch_idx % log_interval == 0:\n",
        "      print('Train Epoch: {} [{}/{} ({:.0f}%)]\\tLoss: {:.6f}'.format(\n",
        "        epoch, batch_idx * len(data), len(train_loader.dataset),\n",
        "        100. * batch_idx / len(train_loader), loss.item()))\n",
        "      train_losses.append(loss.item())\n",
        "      train_counter.append(\n",
        "        (batch_idx*64) + ((epoch-1)*len(train_loader.dataset)))\n",
        "      torch.save(network.state_dict(), './model.pth')\n",
        "      torch.save(optimizer.state_dict(), './optimizer.pth')\n",
        "          \n",
        "train(1) #训练一个epoch"
      ],
      "metadata": {
        "id": "vgXXWkAvsyaF",
        "colab": {
          "base_uri": "https://localhost:8080/"
        },
        "outputId": "1e3c97c3-6c8d-419a-c77f-93e3e11d6a27"
      },
      "execution_count": null,
      "outputs": [
        {
          "output_type": "stream",
          "name": "stderr",
          "text": [
            "<ipython-input-41-f14b5dfe1d84>:20: UserWarning: Implicit dimension choice for log_softmax has been deprecated. Change the call to include dim=X as an argument.\n",
            "  return F.log_softmax(x)\n"
          ]
        },
        {
          "output_type": "stream",
          "name": "stdout",
          "text": [
            "Train Epoch: 1 [0/60000 (0%)]\tLoss: 2.303384\n",
            "Train Epoch: 1 [640/60000 (1%)]\tLoss: 2.279411\n",
            "Train Epoch: 1 [1280/60000 (2%)]\tLoss: 2.289252\n",
            "Train Epoch: 1 [1920/60000 (3%)]\tLoss: 2.262080\n",
            "Train Epoch: 1 [2560/60000 (4%)]\tLoss: 2.253610\n",
            "Train Epoch: 1 [3200/60000 (5%)]\tLoss: 2.227270\n",
            "Train Epoch: 1 [3840/60000 (6%)]\tLoss: 2.195740\n",
            "Train Epoch: 1 [4480/60000 (7%)]\tLoss: 2.184438\n",
            "Train Epoch: 1 [5120/60000 (9%)]\tLoss: 2.071461\n",
            "Train Epoch: 1 [5760/60000 (10%)]\tLoss: 1.949601\n",
            "Train Epoch: 1 [6400/60000 (11%)]\tLoss: 1.779031\n",
            "Train Epoch: 1 [7040/60000 (12%)]\tLoss: 1.790707\n",
            "Train Epoch: 1 [7680/60000 (13%)]\tLoss: 1.765616\n",
            "Train Epoch: 1 [8320/60000 (14%)]\tLoss: 1.678705\n",
            "Train Epoch: 1 [8960/60000 (15%)]\tLoss: 1.477044\n",
            "Train Epoch: 1 [9600/60000 (16%)]\tLoss: 1.439807\n",
            "Train Epoch: 1 [10240/60000 (17%)]\tLoss: 1.124465\n",
            "Train Epoch: 1 [10880/60000 (18%)]\tLoss: 1.139860\n",
            "Train Epoch: 1 [11520/60000 (19%)]\tLoss: 1.357753\n",
            "Train Epoch: 1 [12160/60000 (20%)]\tLoss: 0.921102\n",
            "Train Epoch: 1 [12800/60000 (21%)]\tLoss: 0.966025\n",
            "Train Epoch: 1 [13440/60000 (22%)]\tLoss: 1.021417\n",
            "Train Epoch: 1 [14080/60000 (23%)]\tLoss: 0.974782\n",
            "Train Epoch: 1 [14720/60000 (25%)]\tLoss: 0.845230\n",
            "Train Epoch: 1 [15360/60000 (26%)]\tLoss: 1.010778\n",
            "Train Epoch: 1 [16000/60000 (27%)]\tLoss: 0.979917\n",
            "Train Epoch: 1 [16640/60000 (28%)]\tLoss: 0.668632\n",
            "Train Epoch: 1 [17280/60000 (29%)]\tLoss: 0.940822\n",
            "Train Epoch: 1 [17920/60000 (30%)]\tLoss: 1.050762\n",
            "Train Epoch: 1 [18560/60000 (31%)]\tLoss: 0.995004\n",
            "Train Epoch: 1 [19200/60000 (32%)]\tLoss: 1.021757\n",
            "Train Epoch: 1 [19840/60000 (33%)]\tLoss: 0.885002\n",
            "Train Epoch: 1 [20480/60000 (34%)]\tLoss: 0.804499\n",
            "Train Epoch: 1 [21120/60000 (35%)]\tLoss: 0.603203\n",
            "Train Epoch: 1 [21760/60000 (36%)]\tLoss: 0.933647\n",
            "Train Epoch: 1 [22400/60000 (37%)]\tLoss: 0.972353\n",
            "Train Epoch: 1 [23040/60000 (38%)]\tLoss: 0.845002\n",
            "Train Epoch: 1 [23680/60000 (39%)]\tLoss: 0.515602\n",
            "Train Epoch: 1 [24320/60000 (41%)]\tLoss: 0.780393\n",
            "Train Epoch: 1 [24960/60000 (42%)]\tLoss: 0.598771\n",
            "Train Epoch: 1 [25600/60000 (43%)]\tLoss: 0.646357\n",
            "Train Epoch: 1 [26240/60000 (44%)]\tLoss: 0.470265\n",
            "Train Epoch: 1 [26880/60000 (45%)]\tLoss: 0.754121\n",
            "Train Epoch: 1 [27520/60000 (46%)]\tLoss: 0.585748\n",
            "Train Epoch: 1 [28160/60000 (47%)]\tLoss: 0.538649\n",
            "Train Epoch: 1 [28800/60000 (48%)]\tLoss: 0.711783\n",
            "Train Epoch: 1 [29440/60000 (49%)]\tLoss: 0.562053\n",
            "Train Epoch: 1 [30080/60000 (50%)]\tLoss: 0.526109\n",
            "Train Epoch: 1 [30720/60000 (51%)]\tLoss: 0.449943\n",
            "Train Epoch: 1 [31360/60000 (52%)]\tLoss: 0.515324\n",
            "Train Epoch: 1 [32000/60000 (53%)]\tLoss: 0.630211\n",
            "Train Epoch: 1 [32640/60000 (54%)]\tLoss: 0.635156\n",
            "Train Epoch: 1 [33280/60000 (55%)]\tLoss: 0.772421\n",
            "Train Epoch: 1 [33920/60000 (57%)]\tLoss: 0.590404\n",
            "Train Epoch: 1 [34560/60000 (58%)]\tLoss: 0.464631\n",
            "Train Epoch: 1 [35200/60000 (59%)]\tLoss: 0.694360\n",
            "Train Epoch: 1 [35840/60000 (60%)]\tLoss: 0.627406\n",
            "Train Epoch: 1 [36480/60000 (61%)]\tLoss: 0.570152\n",
            "Train Epoch: 1 [37120/60000 (62%)]\tLoss: 0.515456\n",
            "Train Epoch: 1 [37760/60000 (63%)]\tLoss: 0.813101\n",
            "Train Epoch: 1 [38400/60000 (64%)]\tLoss: 0.753026\n",
            "Train Epoch: 1 [39040/60000 (65%)]\tLoss: 0.624825\n",
            "Train Epoch: 1 [39680/60000 (66%)]\tLoss: 0.586037\n",
            "Train Epoch: 1 [40320/60000 (67%)]\tLoss: 0.569542\n",
            "Train Epoch: 1 [40960/60000 (68%)]\tLoss: 0.761993\n",
            "Train Epoch: 1 [41600/60000 (69%)]\tLoss: 0.864862\n",
            "Train Epoch: 1 [42240/60000 (70%)]\tLoss: 0.423679\n",
            "Train Epoch: 1 [42880/60000 (71%)]\tLoss: 0.426861\n",
            "Train Epoch: 1 [43520/60000 (72%)]\tLoss: 0.542742\n",
            "Train Epoch: 1 [44160/60000 (74%)]\tLoss: 0.445369\n",
            "Train Epoch: 1 [44800/60000 (75%)]\tLoss: 0.352297\n",
            "Train Epoch: 1 [45440/60000 (76%)]\tLoss: 0.533133\n",
            "Train Epoch: 1 [46080/60000 (77%)]\tLoss: 0.428071\n",
            "Train Epoch: 1 [46720/60000 (78%)]\tLoss: 0.431636\n",
            "Train Epoch: 1 [47360/60000 (79%)]\tLoss: 0.730170\n",
            "Train Epoch: 1 [48000/60000 (80%)]\tLoss: 0.470109\n",
            "Train Epoch: 1 [48640/60000 (81%)]\tLoss: 0.308168\n",
            "Train Epoch: 1 [49280/60000 (82%)]\tLoss: 0.626958\n",
            "Train Epoch: 1 [49920/60000 (83%)]\tLoss: 0.383683\n",
            "Train Epoch: 1 [50560/60000 (84%)]\tLoss: 0.315045\n",
            "Train Epoch: 1 [51200/60000 (85%)]\tLoss: 0.778109\n",
            "Train Epoch: 1 [51840/60000 (86%)]\tLoss: 0.650305\n",
            "Train Epoch: 1 [52480/60000 (87%)]\tLoss: 0.478420\n",
            "Train Epoch: 1 [53120/60000 (88%)]\tLoss: 0.594664\n",
            "Train Epoch: 1 [53760/60000 (90%)]\tLoss: 0.324646\n",
            "Train Epoch: 1 [54400/60000 (91%)]\tLoss: 0.409199\n",
            "Train Epoch: 1 [55040/60000 (92%)]\tLoss: 0.521490\n",
            "Train Epoch: 1 [55680/60000 (93%)]\tLoss: 0.404524\n",
            "Train Epoch: 1 [56320/60000 (94%)]\tLoss: 0.688318\n",
            "Train Epoch: 1 [56960/60000 (95%)]\tLoss: 0.558827\n",
            "Train Epoch: 1 [57600/60000 (96%)]\tLoss: 0.541476\n",
            "Train Epoch: 1 [58240/60000 (97%)]\tLoss: 0.365192\n",
            "Train Epoch: 1 [58880/60000 (98%)]\tLoss: 0.586525\n",
            "Train Epoch: 1 [59520/60000 (99%)]\tLoss: 0.483028\n"
          ]
        }
      ]
    },
    {
      "cell_type": "code",
      "source": [
        "def test():\n",
        "  network.eval()\n",
        "  test_loss = 0\n",
        "  correct = 0\n",
        "  with torch.no_grad():\n",
        "    for data, target in test_loader:\n",
        "      output = network(data)\n",
        "      test_loss += F.nll_loss(output, target, size_average=False).item()\n",
        "      pred = output.data.max(1, keepdim=True)[1]\n",
        "      correct += pred.eq(target.data.view_as(pred)).sum()\n",
        "  test_loss /= len(test_loader.dataset)\n",
        "  test_losses.append(test_loss)\n",
        "  print('\\nTest set: Avg. loss: {:.4f}, Accuracy: {}/{} ({:.0f}%)\\n'.format(\n",
        "    test_loss, correct, len(test_loader.dataset),\n",
        "    100. * correct / len(test_loader.dataset)))\n",
        "\n",
        "\n",
        "\n",
        "test()"
      ],
      "metadata": {
        "colab": {
          "base_uri": "https://localhost:8080/"
        },
        "id": "wC8J6UkEs8l1",
        "outputId": "b238bcfd-fcbd-4b74-d533-555c2ca0100e"
      },
      "execution_count": null,
      "outputs": [
        {
          "output_type": "stream",
          "name": "stderr",
          "text": [
            "<ipython-input-41-f14b5dfe1d84>:20: UserWarning: Implicit dimension choice for log_softmax has been deprecated. Change the call to include dim=X as an argument.\n",
            "  return F.log_softmax(x)\n",
            "/usr/local/lib/python3.8/dist-packages/torch/nn/_reduction.py:42: UserWarning: size_average and reduce args will be deprecated, please use reduction='sum' instead.\n",
            "  warnings.warn(warning.format(ret))\n"
          ]
        },
        {
          "output_type": "stream",
          "name": "stdout",
          "text": [
            "\n",
            "Test set: Avg. loss: 0.1870, Accuracy: 9441/10000 (94%)\n",
            "\n"
          ]
        }
      ]
    },
    {
      "cell_type": "markdown",
      "source": [
        "将在循环遍历n_epochs之前手动添加test()调用，以使用随机初始化的参数来评估模型。"
      ],
      "metadata": {
        "id": "8O0bE_8ltFgg"
      }
    },
    {
      "cell_type": "code",
      "source": [
        "test()# 不加这个，后面画图就会报错：x and y must be the same size\n",
        "for epoch in range(1, n_epochs + 1):\n",
        "    train(epoch)\n",
        "    test()"
      ],
      "metadata": {
        "colab": {
          "base_uri": "https://localhost:8080/"
        },
        "id": "sfJmbs0ctElO",
        "outputId": "ca08ff84-ab74-4aa2-bc6d-d22d62b09b86"
      },
      "execution_count": null,
      "outputs": [
        {
          "output_type": "stream",
          "name": "stderr",
          "text": [
            "<ipython-input-41-f14b5dfe1d84>:20: UserWarning: Implicit dimension choice for log_softmax has been deprecated. Change the call to include dim=X as an argument.\n",
            "  return F.log_softmax(x)\n"
          ]
        },
        {
          "output_type": "stream",
          "name": "stdout",
          "text": [
            "\n",
            "Test set: Avg. loss: 0.1870, Accuracy: 9441/10000 (94%)\n",
            "\n",
            "Train Epoch: 1 [0/60000 (0%)]\tLoss: 0.441285\n",
            "Train Epoch: 1 [640/60000 (1%)]\tLoss: 0.465136\n",
            "Train Epoch: 1 [1280/60000 (2%)]\tLoss: 0.341788\n",
            "Train Epoch: 1 [1920/60000 (3%)]\tLoss: 0.413156\n",
            "Train Epoch: 1 [2560/60000 (4%)]\tLoss: 0.514209\n",
            "Train Epoch: 1 [3200/60000 (5%)]\tLoss: 0.551829\n",
            "Train Epoch: 1 [3840/60000 (6%)]\tLoss: 0.402121\n",
            "Train Epoch: 1 [4480/60000 (7%)]\tLoss: 0.647782\n",
            "Train Epoch: 1 [5120/60000 (9%)]\tLoss: 0.392400\n",
            "Train Epoch: 1 [5760/60000 (10%)]\tLoss: 0.671687\n",
            "Train Epoch: 1 [6400/60000 (11%)]\tLoss: 0.567668\n",
            "Train Epoch: 1 [7040/60000 (12%)]\tLoss: 0.415182\n",
            "Train Epoch: 1 [7680/60000 (13%)]\tLoss: 0.716471\n",
            "Train Epoch: 1 [8320/60000 (14%)]\tLoss: 0.350373\n",
            "Train Epoch: 1 [8960/60000 (15%)]\tLoss: 0.233549\n",
            "Train Epoch: 1 [9600/60000 (16%)]\tLoss: 0.402620\n",
            "Train Epoch: 1 [10240/60000 (17%)]\tLoss: 0.465532\n",
            "Train Epoch: 1 [10880/60000 (18%)]\tLoss: 0.563128\n",
            "Train Epoch: 1 [11520/60000 (19%)]\tLoss: 0.473228\n",
            "Train Epoch: 1 [12160/60000 (20%)]\tLoss: 0.318084\n",
            "Train Epoch: 1 [12800/60000 (21%)]\tLoss: 0.495351\n",
            "Train Epoch: 1 [13440/60000 (22%)]\tLoss: 0.512481\n",
            "Train Epoch: 1 [14080/60000 (23%)]\tLoss: 0.427323\n",
            "Train Epoch: 1 [14720/60000 (25%)]\tLoss: 0.290494\n",
            "Train Epoch: 1 [15360/60000 (26%)]\tLoss: 0.276318\n",
            "Train Epoch: 1 [16000/60000 (27%)]\tLoss: 0.619174\n",
            "Train Epoch: 1 [16640/60000 (28%)]\tLoss: 0.605244\n",
            "Train Epoch: 1 [17280/60000 (29%)]\tLoss: 0.153947\n",
            "Train Epoch: 1 [17920/60000 (30%)]\tLoss: 0.343035\n",
            "Train Epoch: 1 [18560/60000 (31%)]\tLoss: 0.353869\n",
            "Train Epoch: 1 [19200/60000 (32%)]\tLoss: 0.430295\n",
            "Train Epoch: 1 [19840/60000 (33%)]\tLoss: 0.345337\n",
            "Train Epoch: 1 [20480/60000 (34%)]\tLoss: 0.368191\n",
            "Train Epoch: 1 [21120/60000 (35%)]\tLoss: 0.422575\n",
            "Train Epoch: 1 [21760/60000 (36%)]\tLoss: 0.513894\n",
            "Train Epoch: 1 [22400/60000 (37%)]\tLoss: 0.354316\n",
            "Train Epoch: 1 [23040/60000 (38%)]\tLoss: 0.200437\n",
            "Train Epoch: 1 [23680/60000 (39%)]\tLoss: 0.395024\n",
            "Train Epoch: 1 [24320/60000 (41%)]\tLoss: 0.352220\n",
            "Train Epoch: 1 [24960/60000 (42%)]\tLoss: 0.479716\n",
            "Train Epoch: 1 [25600/60000 (43%)]\tLoss: 0.535645\n",
            "Train Epoch: 1 [26240/60000 (44%)]\tLoss: 0.285704\n",
            "Train Epoch: 1 [26880/60000 (45%)]\tLoss: 0.377067\n",
            "Train Epoch: 1 [27520/60000 (46%)]\tLoss: 0.549508\n",
            "Train Epoch: 1 [28160/60000 (47%)]\tLoss: 0.307147\n",
            "Train Epoch: 1 [28800/60000 (48%)]\tLoss: 0.248339\n",
            "Train Epoch: 1 [29440/60000 (49%)]\tLoss: 0.281396\n",
            "Train Epoch: 1 [30080/60000 (50%)]\tLoss: 0.286687\n",
            "Train Epoch: 1 [30720/60000 (51%)]\tLoss: 0.395536\n",
            "Train Epoch: 1 [31360/60000 (52%)]\tLoss: 0.159232\n",
            "Train Epoch: 1 [32000/60000 (53%)]\tLoss: 0.303200\n",
            "Train Epoch: 1 [32640/60000 (54%)]\tLoss: 0.569016\n",
            "Train Epoch: 1 [33280/60000 (55%)]\tLoss: 0.461153\n",
            "Train Epoch: 1 [33920/60000 (57%)]\tLoss: 0.458876\n",
            "Train Epoch: 1 [34560/60000 (58%)]\tLoss: 0.393689\n",
            "Train Epoch: 1 [35200/60000 (59%)]\tLoss: 0.388233\n",
            "Train Epoch: 1 [35840/60000 (60%)]\tLoss: 0.230987\n",
            "Train Epoch: 1 [36480/60000 (61%)]\tLoss: 0.158948\n",
            "Train Epoch: 1 [37120/60000 (62%)]\tLoss: 0.373568\n",
            "Train Epoch: 1 [37760/60000 (63%)]\tLoss: 0.255308\n",
            "Train Epoch: 1 [38400/60000 (64%)]\tLoss: 0.354418\n",
            "Train Epoch: 1 [39040/60000 (65%)]\tLoss: 0.386678\n",
            "Train Epoch: 1 [39680/60000 (66%)]\tLoss: 0.707896\n",
            "Train Epoch: 1 [40320/60000 (67%)]\tLoss: 0.370389\n",
            "Train Epoch: 1 [40960/60000 (68%)]\tLoss: 0.570385\n",
            "Train Epoch: 1 [41600/60000 (69%)]\tLoss: 0.279005\n",
            "Train Epoch: 1 [42240/60000 (70%)]\tLoss: 0.299245\n",
            "Train Epoch: 1 [42880/60000 (71%)]\tLoss: 0.274771\n",
            "Train Epoch: 1 [43520/60000 (72%)]\tLoss: 0.368678\n",
            "Train Epoch: 1 [44160/60000 (74%)]\tLoss: 0.580700\n",
            "Train Epoch: 1 [44800/60000 (75%)]\tLoss: 0.287456\n",
            "Train Epoch: 1 [45440/60000 (76%)]\tLoss: 0.400633\n",
            "Train Epoch: 1 [46080/60000 (77%)]\tLoss: 0.299312\n",
            "Train Epoch: 1 [46720/60000 (78%)]\tLoss: 0.399478\n",
            "Train Epoch: 1 [47360/60000 (79%)]\tLoss: 0.314008\n",
            "Train Epoch: 1 [48000/60000 (80%)]\tLoss: 0.282684\n",
            "Train Epoch: 1 [48640/60000 (81%)]\tLoss: 0.256239\n",
            "Train Epoch: 1 [49280/60000 (82%)]\tLoss: 0.469082\n",
            "Train Epoch: 1 [49920/60000 (83%)]\tLoss: 0.216622\n",
            "Train Epoch: 1 [50560/60000 (84%)]\tLoss: 0.284033\n",
            "Train Epoch: 1 [51200/60000 (85%)]\tLoss: 0.348999\n",
            "Train Epoch: 1 [51840/60000 (86%)]\tLoss: 0.484104\n",
            "Train Epoch: 1 [52480/60000 (87%)]\tLoss: 0.570330\n",
            "Train Epoch: 1 [53120/60000 (88%)]\tLoss: 0.430919\n",
            "Train Epoch: 1 [53760/60000 (90%)]\tLoss: 0.335799\n",
            "Train Epoch: 1 [54400/60000 (91%)]\tLoss: 0.417760\n",
            "Train Epoch: 1 [55040/60000 (92%)]\tLoss: 0.324685\n",
            "Train Epoch: 1 [55680/60000 (93%)]\tLoss: 0.362273\n",
            "Train Epoch: 1 [56320/60000 (94%)]\tLoss: 0.295069\n",
            "Train Epoch: 1 [56960/60000 (95%)]\tLoss: 0.372299\n",
            "Train Epoch: 1 [57600/60000 (96%)]\tLoss: 0.563018\n",
            "Train Epoch: 1 [58240/60000 (97%)]\tLoss: 0.100961\n",
            "Train Epoch: 1 [58880/60000 (98%)]\tLoss: 0.267396\n",
            "Train Epoch: 1 [59520/60000 (99%)]\tLoss: 0.543557\n",
            "\n",
            "Test set: Avg. loss: 0.1210, Accuracy: 9644/10000 (96%)\n",
            "\n"
          ]
        }
      ]
    },
    {
      "cell_type": "markdown",
      "source": [
        "#评估模型的性能"
      ],
      "metadata": {
        "id": "zRl2Luu6tLVa"
      }
    },
    {
      "cell_type": "markdown",
      "source": [
        "\n",
        "画一下训练曲线。"
      ],
      "metadata": {
        "id": "A_vXgiTBtO0v"
      }
    },
    {
      "cell_type": "code",
      "source": [
        "import matplotlib.pyplot as plt\n",
        "fig = plt.figure()\n",
        "plt.plot(train_counter, train_losses, color='blue')\n",
        "plt.scatter(test_counter, test_losses, color='red')\n",
        "plt.legend(['Train Loss', 'Test Loss'], loc='upper right')\n",
        "plt.xlabel('number of training examples seen')\n",
        "plt.ylabel('negative log likelihood loss')\n",
        "plt.show()"
      ],
      "metadata": {
        "id": "z6RI7_OYtOgH",
        "colab": {
          "base_uri": "https://localhost:8080/",
          "height": 647
        },
        "outputId": "e6ad6c18-4ebb-446d-b1f9-66a7d5a12f55"
      },
      "execution_count": null,
      "outputs": [
        {
          "output_type": "error",
          "ename": "ValueError",
          "evalue": "ignored",
          "traceback": [
            "\u001b[0;31m---------------------------------------------------------------------------\u001b[0m",
            "\u001b[0;31mValueError\u001b[0m                                Traceback (most recent call last)",
            "\u001b[0;32m<ipython-input-48-5d8b32dcb187>\u001b[0m in \u001b[0;36m<module>\u001b[0;34m\u001b[0m\n\u001b[1;32m      2\u001b[0m \u001b[0mfig\u001b[0m \u001b[0;34m=\u001b[0m \u001b[0mplt\u001b[0m\u001b[0;34m.\u001b[0m\u001b[0mfigure\u001b[0m\u001b[0;34m(\u001b[0m\u001b[0;34m)\u001b[0m\u001b[0;34m\u001b[0m\u001b[0;34m\u001b[0m\u001b[0m\n\u001b[1;32m      3\u001b[0m \u001b[0mplt\u001b[0m\u001b[0;34m.\u001b[0m\u001b[0mplot\u001b[0m\u001b[0;34m(\u001b[0m\u001b[0mtrain_counter\u001b[0m\u001b[0;34m,\u001b[0m \u001b[0mtrain_losses\u001b[0m\u001b[0;34m,\u001b[0m \u001b[0mcolor\u001b[0m\u001b[0;34m=\u001b[0m\u001b[0;34m'blue'\u001b[0m\u001b[0;34m)\u001b[0m\u001b[0;34m\u001b[0m\u001b[0;34m\u001b[0m\u001b[0m\n\u001b[0;32m----> 4\u001b[0;31m \u001b[0mplt\u001b[0m\u001b[0;34m.\u001b[0m\u001b[0mscatter\u001b[0m\u001b[0;34m(\u001b[0m\u001b[0mtest_counter\u001b[0m\u001b[0;34m,\u001b[0m \u001b[0mtest_losses\u001b[0m\u001b[0;34m,\u001b[0m \u001b[0mcolor\u001b[0m\u001b[0;34m=\u001b[0m\u001b[0;34m'red'\u001b[0m\u001b[0;34m)\u001b[0m\u001b[0;34m\u001b[0m\u001b[0;34m\u001b[0m\u001b[0m\n\u001b[0m\u001b[1;32m      5\u001b[0m \u001b[0mplt\u001b[0m\u001b[0;34m.\u001b[0m\u001b[0mlegend\u001b[0m\u001b[0;34m(\u001b[0m\u001b[0;34m[\u001b[0m\u001b[0;34m'Train Loss'\u001b[0m\u001b[0;34m,\u001b[0m \u001b[0;34m'Test Loss'\u001b[0m\u001b[0;34m]\u001b[0m\u001b[0;34m,\u001b[0m \u001b[0mloc\u001b[0m\u001b[0;34m=\u001b[0m\u001b[0;34m'upper right'\u001b[0m\u001b[0;34m)\u001b[0m\u001b[0;34m\u001b[0m\u001b[0;34m\u001b[0m\u001b[0m\n\u001b[1;32m      6\u001b[0m \u001b[0mplt\u001b[0m\u001b[0;34m.\u001b[0m\u001b[0mxlabel\u001b[0m\u001b[0;34m(\u001b[0m\u001b[0;34m'number of training examples seen'\u001b[0m\u001b[0;34m)\u001b[0m\u001b[0;34m\u001b[0m\u001b[0;34m\u001b[0m\u001b[0m\n",
            "\u001b[0;32m/usr/local/lib/python3.8/dist-packages/matplotlib/pyplot.py\u001b[0m in \u001b[0;36mscatter\u001b[0;34m(x, y, s, c, marker, cmap, norm, vmin, vmax, alpha, linewidths, verts, edgecolors, plotnonfinite, data, **kwargs)\u001b[0m\n\u001b[1;32m   2809\u001b[0m         \u001b[0mverts\u001b[0m\u001b[0;34m=\u001b[0m\u001b[0mcbook\u001b[0m\u001b[0;34m.\u001b[0m\u001b[0mdeprecation\u001b[0m\u001b[0;34m.\u001b[0m\u001b[0m_deprecated_parameter\u001b[0m\u001b[0;34m,\u001b[0m\u001b[0;34m\u001b[0m\u001b[0;34m\u001b[0m\u001b[0m\n\u001b[1;32m   2810\u001b[0m         edgecolors=None, *, plotnonfinite=False, data=None, **kwargs):\n\u001b[0;32m-> 2811\u001b[0;31m     __ret = gca().scatter(\n\u001b[0m\u001b[1;32m   2812\u001b[0m         \u001b[0mx\u001b[0m\u001b[0;34m,\u001b[0m \u001b[0my\u001b[0m\u001b[0;34m,\u001b[0m \u001b[0ms\u001b[0m\u001b[0;34m=\u001b[0m\u001b[0ms\u001b[0m\u001b[0;34m,\u001b[0m \u001b[0mc\u001b[0m\u001b[0;34m=\u001b[0m\u001b[0mc\u001b[0m\u001b[0;34m,\u001b[0m \u001b[0mmarker\u001b[0m\u001b[0;34m=\u001b[0m\u001b[0mmarker\u001b[0m\u001b[0;34m,\u001b[0m \u001b[0mcmap\u001b[0m\u001b[0;34m=\u001b[0m\u001b[0mcmap\u001b[0m\u001b[0;34m,\u001b[0m \u001b[0mnorm\u001b[0m\u001b[0;34m=\u001b[0m\u001b[0mnorm\u001b[0m\u001b[0;34m,\u001b[0m\u001b[0;34m\u001b[0m\u001b[0;34m\u001b[0m\u001b[0m\n\u001b[1;32m   2813\u001b[0m         \u001b[0mvmin\u001b[0m\u001b[0;34m=\u001b[0m\u001b[0mvmin\u001b[0m\u001b[0;34m,\u001b[0m \u001b[0mvmax\u001b[0m\u001b[0;34m=\u001b[0m\u001b[0mvmax\u001b[0m\u001b[0;34m,\u001b[0m \u001b[0malpha\u001b[0m\u001b[0;34m=\u001b[0m\u001b[0malpha\u001b[0m\u001b[0;34m,\u001b[0m \u001b[0mlinewidths\u001b[0m\u001b[0;34m=\u001b[0m\u001b[0mlinewidths\u001b[0m\u001b[0;34m,\u001b[0m\u001b[0;34m\u001b[0m\u001b[0;34m\u001b[0m\u001b[0m\n",
            "\u001b[0;32m/usr/local/lib/python3.8/dist-packages/matplotlib/__init__.py\u001b[0m in \u001b[0;36minner\u001b[0;34m(ax, data, *args, **kwargs)\u001b[0m\n\u001b[1;32m   1563\u001b[0m     \u001b[0;32mdef\u001b[0m \u001b[0minner\u001b[0m\u001b[0;34m(\u001b[0m\u001b[0max\u001b[0m\u001b[0;34m,\u001b[0m \u001b[0;34m*\u001b[0m\u001b[0margs\u001b[0m\u001b[0;34m,\u001b[0m \u001b[0mdata\u001b[0m\u001b[0;34m=\u001b[0m\u001b[0;32mNone\u001b[0m\u001b[0;34m,\u001b[0m \u001b[0;34m**\u001b[0m\u001b[0mkwargs\u001b[0m\u001b[0;34m)\u001b[0m\u001b[0;34m:\u001b[0m\u001b[0;34m\u001b[0m\u001b[0;34m\u001b[0m\u001b[0m\n\u001b[1;32m   1564\u001b[0m         \u001b[0;32mif\u001b[0m \u001b[0mdata\u001b[0m \u001b[0;32mis\u001b[0m \u001b[0;32mNone\u001b[0m\u001b[0;34m:\u001b[0m\u001b[0;34m\u001b[0m\u001b[0;34m\u001b[0m\u001b[0m\n\u001b[0;32m-> 1565\u001b[0;31m             \u001b[0;32mreturn\u001b[0m \u001b[0mfunc\u001b[0m\u001b[0;34m(\u001b[0m\u001b[0max\u001b[0m\u001b[0;34m,\u001b[0m \u001b[0;34m*\u001b[0m\u001b[0mmap\u001b[0m\u001b[0;34m(\u001b[0m\u001b[0msanitize_sequence\u001b[0m\u001b[0;34m,\u001b[0m \u001b[0margs\u001b[0m\u001b[0;34m)\u001b[0m\u001b[0;34m,\u001b[0m \u001b[0;34m**\u001b[0m\u001b[0mkwargs\u001b[0m\u001b[0;34m)\u001b[0m\u001b[0;34m\u001b[0m\u001b[0;34m\u001b[0m\u001b[0m\n\u001b[0m\u001b[1;32m   1566\u001b[0m \u001b[0;34m\u001b[0m\u001b[0m\n\u001b[1;32m   1567\u001b[0m         \u001b[0mbound\u001b[0m \u001b[0;34m=\u001b[0m \u001b[0mnew_sig\u001b[0m\u001b[0;34m.\u001b[0m\u001b[0mbind\u001b[0m\u001b[0;34m(\u001b[0m\u001b[0max\u001b[0m\u001b[0;34m,\u001b[0m \u001b[0;34m*\u001b[0m\u001b[0margs\u001b[0m\u001b[0;34m,\u001b[0m \u001b[0;34m**\u001b[0m\u001b[0mkwargs\u001b[0m\u001b[0;34m)\u001b[0m\u001b[0;34m\u001b[0m\u001b[0;34m\u001b[0m\u001b[0m\n",
            "\u001b[0;32m/usr/local/lib/python3.8/dist-packages/matplotlib/cbook/deprecation.py\u001b[0m in \u001b[0;36mwrapper\u001b[0;34m(*args, **kwargs)\u001b[0m\n\u001b[1;32m    356\u001b[0m                 \u001b[0;34mf\"%(removal)s.  If any parameter follows {name!r}, they \"\u001b[0m\u001b[0;34m\u001b[0m\u001b[0;34m\u001b[0m\u001b[0m\n\u001b[1;32m    357\u001b[0m                 f\"should be pass as keyword, not positionally.\")\n\u001b[0;32m--> 358\u001b[0;31m         \u001b[0;32mreturn\u001b[0m \u001b[0mfunc\u001b[0m\u001b[0;34m(\u001b[0m\u001b[0;34m*\u001b[0m\u001b[0margs\u001b[0m\u001b[0;34m,\u001b[0m \u001b[0;34m**\u001b[0m\u001b[0mkwargs\u001b[0m\u001b[0;34m)\u001b[0m\u001b[0;34m\u001b[0m\u001b[0;34m\u001b[0m\u001b[0m\n\u001b[0m\u001b[1;32m    359\u001b[0m \u001b[0;34m\u001b[0m\u001b[0m\n\u001b[1;32m    360\u001b[0m     \u001b[0;32mreturn\u001b[0m \u001b[0mwrapper\u001b[0m\u001b[0;34m\u001b[0m\u001b[0;34m\u001b[0m\u001b[0m\n",
            "\u001b[0;32m/usr/local/lib/python3.8/dist-packages/matplotlib/axes/_axes.py\u001b[0m in \u001b[0;36mscatter\u001b[0;34m(self, x, y, s, c, marker, cmap, norm, vmin, vmax, alpha, linewidths, verts, edgecolors, plotnonfinite, **kwargs)\u001b[0m\n\u001b[1;32m   4389\u001b[0m         \u001b[0my\u001b[0m \u001b[0;34m=\u001b[0m \u001b[0mnp\u001b[0m\u001b[0;34m.\u001b[0m\u001b[0mma\u001b[0m\u001b[0;34m.\u001b[0m\u001b[0mravel\u001b[0m\u001b[0;34m(\u001b[0m\u001b[0my\u001b[0m\u001b[0;34m)\u001b[0m\u001b[0;34m\u001b[0m\u001b[0;34m\u001b[0m\u001b[0m\n\u001b[1;32m   4390\u001b[0m         \u001b[0;32mif\u001b[0m \u001b[0mx\u001b[0m\u001b[0;34m.\u001b[0m\u001b[0msize\u001b[0m \u001b[0;34m!=\u001b[0m \u001b[0my\u001b[0m\u001b[0;34m.\u001b[0m\u001b[0msize\u001b[0m\u001b[0;34m:\u001b[0m\u001b[0;34m\u001b[0m\u001b[0;34m\u001b[0m\u001b[0m\n\u001b[0;32m-> 4391\u001b[0;31m             \u001b[0;32mraise\u001b[0m \u001b[0mValueError\u001b[0m\u001b[0;34m(\u001b[0m\u001b[0;34m\"x and y must be the same size\"\u001b[0m\u001b[0;34m)\u001b[0m\u001b[0;34m\u001b[0m\u001b[0;34m\u001b[0m\u001b[0m\n\u001b[0m\u001b[1;32m   4392\u001b[0m \u001b[0;34m\u001b[0m\u001b[0m\n\u001b[1;32m   4393\u001b[0m         \u001b[0;32mif\u001b[0m \u001b[0ms\u001b[0m \u001b[0;32mis\u001b[0m \u001b[0;32mNone\u001b[0m\u001b[0;34m:\u001b[0m\u001b[0;34m\u001b[0m\u001b[0;34m\u001b[0m\u001b[0m\n",
            "\u001b[0;31mValueError\u001b[0m: x and y must be the same size"
          ]
        },
        {
          "output_type": "display_data",
          "data": {
            "text/plain": [
              "<Figure size 432x288 with 1 Axes>"
            ],
            "image/png": "[encoded data removed]"
          },
          "metadata": {
            "needs_background": "light"
          }
        }
      ]
    },
    {
      "cell_type": "markdown",
      "source": [
        "效果显著"
      ],
      "metadata": {
        "id": "-bFS8ROXKjch"
      }
    },
    {
      "cell_type": "code",
      "source": [
        "examples = enumerate(test_loader)\n",
        "batch_idx, (example_data, example_targets) = next(examples)\n",
        "with torch.no_grad():\n",
        "  output = network(example_data)\n",
        "fig = plt.figure()\n",
        "for i in range(6):\n",
        "  plt.subplot(2,3,i+1)\n",
        "  plt.tight_layout()\n",
        "  plt.imshow(example_data[i][0], cmap='gray', interpolation='none')\n",
        "  plt.title(\"Prediction: {}\".format(\n",
        "    output.data.max(1, keepdim=True)[1][i].item()))\n",
        "  plt.xticks([])\n",
        "  plt.yticks([])\n",
        "plt.show()"
      ],
      "metadata": {
        "id": "eip_T_aFtKvK",
        "colab": {
          "base_uri": "https://localhost:8080/",
          "height": 320
        },
        "outputId": "a6d933a9-96cf-4ac7-9f53-10c88e8728ef"
      },
      "execution_count": null,
      "outputs": [
        {
          "output_type": "stream",
          "name": "stderr",
          "text": [
            "<ipython-input-41-f14b5dfe1d84>:20: UserWarning: Implicit dimension choice for log_softmax has been deprecated. Change the call to include dim=X as an argument.\n",
            "  return F.log_softmax(x)\n"
          ]
        },
        {
          "output_type": "display_data",
          "data": {
            "text/plain": [
              "<Figure size 432x288 with 6 Axes>"
            ],
            "image/png": "[encoded data removed]"
          },
          "metadata": {}
        }
      ]
    },
    {
      "cell_type": "markdown",
      "source": [
        "#检查点的持续训练"
      ],
      "metadata": {
        "id": "BJRiiuw0K5TD"
      }
    },
    {
      "cell_type": "markdown",
      "source": [
        "对网络进行训练，看如何从第一次培训运行时保存的state_dicts中继续进行训练。初始化一组新的网络和优化器。"
      ],
      "metadata": {
        "id": "QCLh-3U2K8TL"
      }
    },
    {
      "cell_type": "code",
      "source": [
        "continued_network = Net()\n",
        "continued_optimizer = optim.SGD(network.parameters(), lr=learning_rate,\n",
        "                                momentum=momentum)"
      ],
      "metadata": {
        "id": "qIj8IgqyK3v7"
      },
      "execution_count": null,
      "outputs": []
    },
    {
      "cell_type": "markdown",
      "source": [
        "使用.load_state_dict()，加载网络的内部状态，在最后一次保存它们时优化它们。"
      ],
      "metadata": {
        "id": "c5FjHHRjK_sg"
      }
    },
    {
      "cell_type": "code",
      "source": [
        "network_state_dict = torch.load('model.pth')\n",
        "continued_network.load_state_dict(network_state_dict)\n",
        "optimizer_state_dict = torch.load('optimizer.pth')\n",
        "continued_optimizer.load_state_dict(optimizer_state_dict)"
      ],
      "metadata": {
        "id": "XotaPer-LAvG"
      },
      "execution_count": null,
      "outputs": []
    },
    {
      "cell_type": "markdown",
      "source": [
        "通过跟踪缺失值来恢复相同的训练"
      ],
      "metadata": {
        "id": "CtAKgvY1Ltbn"
      }
    },
    {
      "cell_type": "code",
      "source": [
        "for i in range(4, 13):\n",
        "    test_counter.append(i*len(train_loader.dataset))\n",
        "    train(i)\n",
        "    test()"
      ],
      "metadata": {
        "id": "edOUQvWJLusN"
      },
      "execution_count": null,
      "outputs": []
    },
    {
      "cell_type": "markdown",
      "source": [
        "用图像检查训练进度。"
      ],
      "metadata": {
        "id": "tr6Hq1sIL2w1"
      }
    },
    {
      "cell_type": "code",
      "source": [
        "fig = plt.figure()\n",
        "plt.plot(train_counter, train_losses, color='blue')\n",
        "plt.scatter(test_counter, test_losses, color='red')\n",
        "plt.legend(['Train Loss', 'Test Loss'], loc='upper right')\n",
        "plt.xlabel('number of training examples seen')\n",
        "plt.ylabel('negative log likelihood loss')\n",
        "plt.show()"
      ],
      "metadata": {
        "id": "Ye8MVBRaL0ZF",
        "colab": {
          "base_uri": "https://localhost:8080/",
          "height": 279
        },
        "outputId": "442ddd6d-2b3e-4978-d188-a8c9338d2b53"
      },
      "execution_count": null,
      "outputs": [
        {
          "output_type": "display_data",
          "data": {
            "text/plain": [
              "<Figure size 432x288 with 1 Axes>"
            ],
            "image/png": "[encoded data removed]"
          },
          "metadata": {
            "needs_background": "light"
          }
        }
      ]
    }
  ]
}